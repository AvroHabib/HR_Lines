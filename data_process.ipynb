{
 "cells": [
  {
   "cell_type": "code",
   "execution_count": 39,
   "metadata": {},
   "outputs": [],
   "source": [
    "import pandas as pd\n",
    "from datetime import datetime, timedelta"
   ]
  },
  {
   "cell_type": "code",
   "execution_count": 2,
   "metadata": {},
   "outputs": [],
   "source": [
    "df = pd.read_excel('C:\\\\Users\\\\omeoo\\\\Downloads\\\\CCE Schedule_automate.xlsx', engine='openpyxl')\n"
   ]
  },
  {
   "cell_type": "code",
   "execution_count": 4,
   "metadata": {},
   "outputs": [
    {
     "data": {
      "text/html": [
       "<div>\n",
       "<style scoped>\n",
       "    .dataframe tbody tr th:only-of-type {\n",
       "        vertical-align: middle;\n",
       "    }\n",
       "\n",
       "    .dataframe tbody tr th {\n",
       "        vertical-align: top;\n",
       "    }\n",
       "\n",
       "    .dataframe thead th {\n",
       "        text-align: right;\n",
       "    }\n",
       "</style>\n",
       "<table border=\"1\" class=\"dataframe\">\n",
       "  <thead>\n",
       "    <tr style=\"text-align: right;\">\n",
       "      <th></th>\n",
       "      <th>Wk/ ETB CGP</th>\n",
       "      <th>Service</th>\n",
       "      <th>Vessel</th>\n",
       "      <th>Voyage-S</th>\n",
       "      <th>ETA CGP</th>\n",
       "      <th>ETB CGP</th>\n",
       "      <th>ETD CGP</th>\n",
       "      <th>Voyage-N</th>\n",
       "      <th>ETA CMB</th>\n",
       "      <th>ETB CMB</th>\n",
       "      <th>ETD CMB</th>\n",
       "      <th>ETA CGP-2</th>\n",
       "      <th>ETB CGP-2</th>\n",
       "      <th>ETD CGP-2</th>\n",
       "    </tr>\n",
       "  </thead>\n",
       "  <tbody>\n",
       "    <tr>\n",
       "      <th>0</th>\n",
       "      <td>13</td>\n",
       "      <td>CCE</td>\n",
       "      <td>SAHARE  \"MSAH\"</td>\n",
       "      <td>0019S</td>\n",
       "      <td>2021-03-29</td>\n",
       "      <td>2021-03-29</td>\n",
       "      <td>2021-04-01</td>\n",
       "      <td>0019N</td>\n",
       "      <td>2021-04-05</td>\n",
       "      <td>2021-04-05</td>\n",
       "      <td>2021-04-06</td>\n",
       "      <td>2021-04-11</td>\n",
       "      <td>2021-04-11</td>\n",
       "      <td>2021-04-14</td>\n",
       "    </tr>\n",
       "    <tr>\n",
       "      <th>1</th>\n",
       "      <td>14</td>\n",
       "      <td>CCE</td>\n",
       "      <td>HR HERA  \"MHRA\"</td>\n",
       "      <td>0001S</td>\n",
       "      <td>2021-04-05</td>\n",
       "      <td>2021-04-05</td>\n",
       "      <td>2021-04-07</td>\n",
       "      <td>0001N</td>\n",
       "      <td>2021-04-12</td>\n",
       "      <td>2021-04-12</td>\n",
       "      <td>2021-04-13</td>\n",
       "      <td>2021-04-22</td>\n",
       "      <td>2021-04-22</td>\n",
       "      <td>2021-04-25</td>\n",
       "    </tr>\n",
       "    <tr>\n",
       "      <th>2</th>\n",
       "      <td>14</td>\n",
       "      <td>CCE</td>\n",
       "      <td>SARERA  \"MSAR\"</td>\n",
       "      <td>0020S</td>\n",
       "      <td>2021-04-07</td>\n",
       "      <td>2021-04-07</td>\n",
       "      <td>2021-04-09</td>\n",
       "      <td>0020N</td>\n",
       "      <td>2021-04-15</td>\n",
       "      <td>2021-04-15</td>\n",
       "      <td>2021-04-16</td>\n",
       "      <td>2021-04-25</td>\n",
       "      <td>2021-04-25</td>\n",
       "      <td>2021-04-28</td>\n",
       "    </tr>\n",
       "    <tr>\n",
       "      <th>3</th>\n",
       "      <td>16</td>\n",
       "      <td>CCE</td>\n",
       "      <td>HR RHEA \"MREA\"</td>\n",
       "      <td>0002S</td>\n",
       "      <td>2021-04-19</td>\n",
       "      <td>2021-04-19</td>\n",
       "      <td>2021-04-22</td>\n",
       "      <td>0002N</td>\n",
       "      <td>2021-04-28</td>\n",
       "      <td>2021-04-28</td>\n",
       "      <td>2021-04-28</td>\n",
       "      <td>2021-05-04</td>\n",
       "      <td>2021-05-04</td>\n",
       "      <td>2021-05-07</td>\n",
       "    </tr>\n",
       "    <tr>\n",
       "      <th>4</th>\n",
       "      <td>17</td>\n",
       "      <td>CCE</td>\n",
       "      <td>SAHARE  \"MSAH\"</td>\n",
       "      <td>0021S</td>\n",
       "      <td>2021-04-28</td>\n",
       "      <td>2021-04-28</td>\n",
       "      <td>2021-05-01</td>\n",
       "      <td>0021N</td>\n",
       "      <td>2021-05-07</td>\n",
       "      <td>2021-05-07</td>\n",
       "      <td>2021-05-08</td>\n",
       "      <td>2021-05-13</td>\n",
       "      <td>2021-05-13</td>\n",
       "      <td>2021-05-16</td>\n",
       "    </tr>\n",
       "  </tbody>\n",
       "</table>\n",
       "</div>"
      ],
      "text/plain": [
       "   Wk/ ETB CGP Service           Vessel Voyage-S    ETA CGP    ETB CGP  \\\n",
       "0           13     CCE   SAHARE  \"MSAH\"    0019S 2021-03-29 2021-03-29   \n",
       "1           14     CCE  HR HERA  \"MHRA\"    0001S 2021-04-05 2021-04-05   \n",
       "2           14     CCE   SARERA  \"MSAR\"    0020S 2021-04-07 2021-04-07   \n",
       "3           16     CCE  HR RHEA \"MREA\"     0002S 2021-04-19 2021-04-19   \n",
       "4           17     CCE   SAHARE  \"MSAH\"    0021S 2021-04-28 2021-04-28   \n",
       "\n",
       "     ETD CGP Voyage-N    ETA CMB    ETB CMB    ETD CMB  ETA CGP-2  ETB CGP-2  \\\n",
       "0 2021-04-01    0019N 2021-04-05 2021-04-05 2021-04-06 2021-04-11 2021-04-11   \n",
       "1 2021-04-07    0001N 2021-04-12 2021-04-12 2021-04-13 2021-04-22 2021-04-22   \n",
       "2 2021-04-09    0020N 2021-04-15 2021-04-15 2021-04-16 2021-04-25 2021-04-25   \n",
       "3 2021-04-22    0002N 2021-04-28 2021-04-28 2021-04-28 2021-05-04 2021-05-04   \n",
       "4 2021-05-01    0021N 2021-05-07 2021-05-07 2021-05-08 2021-05-13 2021-05-13   \n",
       "\n",
       "   ETD CGP-2  \n",
       "0 2021-04-14  \n",
       "1 2021-04-25  \n",
       "2 2021-04-28  \n",
       "3 2021-05-07  \n",
       "4 2021-05-16  "
      ]
     },
     "execution_count": 4,
     "metadata": {},
     "output_type": "execute_result"
    }
   ],
   "source": [
    "df.head()"
   ]
  },
  {
   "cell_type": "code",
   "execution_count": null,
   "metadata": {},
   "outputs": [],
   "source": [
    "\"\"\"Pre-processing to remove duplicate vessel name\"\"\"\n",
    "\n",
    "for i in range(len(df['Vessel'])):\n",
    "  if df['Vessel'][i] == 'SAHARE  \"MSAH\"' or df['Vessel'][i] == 'HR SAHARE \"MSAH\"' or df['Vessel'][i] == 'HR SAHARE  \"MSAH\"' or df['Vessel'][i] == ' HR SAHARE  \"MSAH\"':\n",
    "    df['Vessel'][i] = 'HR SAHARE \"MSAH\"'\n",
    "  elif df['Vessel'][i] == 'SARERA  \"MSAR\"' or df['Vessel'][i] == 'HR SARERA \"MSAR\"' or df['Vessel'][i] == 'HR SARERA  \"MSAR\"'  :\n",
    "    df['Vessel'][i] ='HR SARERA \"MSAR\"'\n",
    "  elif df['Vessel'][i] == 'HR FARHA \"MHRF\"' or df['Vessel'][i] == 'HR FARHA  \"MHRF\"' :\n",
    "    df['Vessel'][i] ='HR FARHA \"MHRF\"'\n",
    "  else:\n",
    "    df['Vessel'][i] = df['Vessel'][i]\n",
    "\n"
   ]
  },
  {
   "cell_type": "code",
   "execution_count": 8,
   "metadata": {},
   "outputs": [
    {
     "data": {
      "text/plain": [
       "array(['HR SAHARE \"MSAH\"', 'HR HERA  \"MHRA\"', 'HR SARERA \"MSAR\"',\n",
       "       'HR RHEA \"MREA\" ', 'HR FARHA \"MHRF\"', 'HR AARAI \"MRAI\"',\n",
       "       'HR BALU \"MBLU\"', 'HR TURAG \"MTRG\"'], dtype=object)"
      ]
     },
     "execution_count": 8,
     "metadata": {},
     "output_type": "execute_result"
    }
   ],
   "source": [
    "df['Vessel'].unique()"
   ]
  },
  {
   "cell_type": "code",
   "execution_count": 38,
   "metadata": {},
   "outputs": [
    {
     "name": "stdout",
     "output_type": "stream",
     "text": [
      "<class 'pandas._libs.tslibs.timestamps.Timestamp'>\n"
     ]
    }
   ],
   "source": [
    "last_info = df[df['Vessel'] == 'HR SAHARE \"MSAH\"'].iloc[-1]\n",
    "print(type(last_info['ETA CMB']))"
   ]
  },
  {
   "cell_type": "code",
   "execution_count": 9,
   "metadata": {},
   "outputs": [],
   "source": [
    "\n",
    "\"\"\"List of Vessel Avaiable at CCE/BES\"\"\"\n",
    "vessel_name = ['HR SAHARE \"MSAH\"', 'HR HERA  \"MHRA\"', 'HR SARERA \"MSAR\"',\n",
    "       'HR RHEA \"MREA\" ', 'HR FARHA \"MHRF\"', 'HR AARAI \"MRAI\"',\n",
    "       'HR BALU \"MBLU\"', 'HR TURAG \"MTRG\"']"
   ]
  },
  {
   "cell_type": "code",
   "execution_count": 57,
   "metadata": {},
   "outputs": [],
   "source": [
    "\"\"\"Generates South Bound Voyage from last last voyage\n",
    "\n",
    "    args: pd.Series -> Row matched from the last of that specified vessel \n",
    "    return : str -> next_voyage\n",
    "\n",
    "\"\"\"\n",
    "\n",
    "\n",
    "def get_voyage_s(last_info):\n",
    "    \n",
    "\n",
    "\n",
    "    previous_voyage = last_info['Voyage-S']\n",
    "\n",
    "    integer_part_str = ''.join([char for char in previous_voyage if char.isdigit()])\n",
    "    integer_part_int = int(integer_part_str)\n",
    "\n",
    "    next_voyage = integer_part_int + 1\n",
    "    number_of_zeros = 4 - len(str(next_voyage))\n",
    "    next_voyage = '0' * number_of_zeros + str(next_voyage) + 'S'\n",
    "\n",
    "    return next_voyage\n",
    "\n",
    "    \n",
    "    \n",
    "\n",
    "    "
   ]
  },
  {
   "cell_type": "code",
   "execution_count": 58,
   "metadata": {},
   "outputs": [],
   "source": [
    "\"\"\"Generates Nort Bound Voyage from last last voyage\n",
    "\n",
    "    args: pd.Series -> Row matched from the last of that specified vessel \n",
    "    return : str -> next_voyage\n",
    "\n",
    "\"\"\"\n",
    "\n",
    "def get_voyage_n(last_info):\n",
    "    \n",
    "\n",
    "\n",
    "    previous_voyage = last_info['Voyage-N']\n",
    "\n",
    "    integer_part_str = ''.join([char for char in previous_voyage if char.isdigit()])\n",
    "    integer_part_int = int(integer_part_str)\n",
    "\n",
    "    next_voyage = integer_part_int + 1\n",
    "    number_of_zeros = 4 - len(str(next_voyage))\n",
    "    next_voyage = '0' * number_of_zeros + str(next_voyage) + 'N'\n",
    "\n",
    "    return next_voyage\n",
    "\n",
    "    \n",
    "    \n",
    "\n",
    "    "
   ]
  },
  {
   "cell_type": "code",
   "execution_count": 45,
   "metadata": {},
   "outputs": [],
   "source": [
    "\"\"\"Generates ETA CMB\n",
    "\n",
    "    args: pd.Series -> Row matched from the last of that specified vessel \n",
    "    return : Timestamp -> new_date\n",
    "\n",
    "\"\"\"\n",
    "\n",
    "def get_eta_cmb(last_info):\n",
    "\n",
    "    n = 5 # use probabilistic/ml model later\n",
    "    last_date = last_info['ETD CGP']\n",
    "    new_date = last_date + timedelta(days=n)\n",
    "    return  new_date\n",
    "\n",
    "    "
   ]
  },
  {
   "cell_type": "code",
   "execution_count": 46,
   "metadata": {},
   "outputs": [],
   "source": [
    "\"\"\"Generates ETB CMB\n",
    "\n",
    "    args: pd.Series -> Row matched from the last of that specified vessel \n",
    "    return : Timestamp -> new_date\n",
    "\n",
    "\"\"\"\n",
    "\n",
    "def get_etb_cmb(last_info):\n",
    "\n",
    "    n = 1 # use probabilistic/ml model later\n",
    "    last_date = last_info['ETA CMB']\n",
    "    new_date = last_date + timedelta(days=n)\n",
    "    return  new_date\n",
    "\n",
    "    "
   ]
  },
  {
   "cell_type": "code",
   "execution_count": 47,
   "metadata": {},
   "outputs": [],
   "source": [
    "\"\"\"Generates ETD CMB\n",
    "\n",
    "    args: pd.Series -> Row matched from the last of that specified vessel \n",
    "    return : Timestamp -> new_date\n",
    "\n",
    "\"\"\"\n",
    "\n",
    "def get_etd_cmb(last_info):\n",
    "\n",
    "    n = 1 # use probabilistic/ml model later\n",
    "    last_date = last_info['ETB CMB']\n",
    "    new_date = last_date + timedelta(days=n)\n",
    "    return  new_date\n",
    "\n",
    "    "
   ]
  },
  {
   "cell_type": "code",
   "execution_count": 48,
   "metadata": {},
   "outputs": [],
   "source": [
    "\"\"\"Generates ETA CGP-2\n",
    "\n",
    "    args: pd.Series -> Row matched from the last of that specified vessel \n",
    "    return : Timestamp -> new_date\n",
    "\n",
    "\"\"\"\n",
    "\n",
    "def get_eta_cgp(last_info):\n",
    "\n",
    "    n = 5 # use probabilistic/ml model later\n",
    "    last_date = last_info['ETD CMB']\n",
    "    new_date = last_date + timedelta(days=n)\n",
    "    return  new_date\n",
    "\n",
    "    "
   ]
  },
  {
   "cell_type": "code",
   "execution_count": 49,
   "metadata": {},
   "outputs": [],
   "source": [
    "\"\"\"Generates ETB CGP-2\n",
    "\n",
    "    args: pd.Series -> Row matched from the last of that specified vessel \n",
    "    return : Timestamp -> new_date\n",
    "\n",
    "\"\"\"\n",
    "\n",
    "def get_etb_cgp(last_info):\n",
    "\n",
    "    n = 1 # use probabilistic/ml model later\n",
    "    last_date = last_info['ETA CGP-2']\n",
    "    new_date = last_date + timedelta(days=n)\n",
    "    return  new_date\n",
    "\n",
    "    "
   ]
  },
  {
   "cell_type": "code",
   "execution_count": 50,
   "metadata": {},
   "outputs": [],
   "source": [
    "\"\"\"Generates ETD CGP-2\n",
    "\n",
    "    args: pd.Series -> Row matched from the last of that specified vessel \n",
    "    return : Timestamp -> new_date\n",
    "\n",
    "\"\"\"\n",
    "\n",
    "def get_etd_cgp(last_info):\n",
    "\n",
    "    n = 3 # use probabilistic/ml model later\n",
    "    last_date = last_info['ETA CGP-2']\n",
    "    new_date = last_date + timedelta(days=n)\n",
    "    return  new_date\n",
    "\n",
    "    "
   ]
  },
  {
   "cell_type": "code",
   "execution_count": 61,
   "metadata": {},
   "outputs": [
    {
     "name": "stdout",
     "output_type": "stream",
     "text": [
      "{'Wk/ ETB CGP': 35, 'Service': 'CCE', 'Vessel': 'HR SAHARE \"MSAH\"', 'Voyage-S': '0102S', 'ETA CGP': Timestamp('2024-09-05 00:00:00'), 'ETB CGP': Timestamp('2024-09-07 00:00:00'), 'ETD CGP': Timestamp('2024-09-10 00:00:00'), 'Voyage-N': '0102N', 'ETA CMB': Timestamp('2024-08-30 00:00:00'), 'ETB CMB': Timestamp('2024-08-31 00:00:00'), 'ETD CMB': Timestamp('2024-08-31 00:00:00'), 'ETA CGP-2': Timestamp('2024-09-05 00:00:00'), 'ETB CGP-2': Timestamp('2024-09-06 00:00:00'), 'ETD CGP-2': Timestamp('2024-09-08 00:00:00')}\n",
      "{'Wk/ ETB CGP': 33, 'Service': 'CCE', 'Vessel': 'HR HERA  \"MHRA\"', 'Voyage-S': '0010S', 'ETA CGP': Timestamp('2021-08-29 00:00:00'), 'ETB CGP': Timestamp('2021-08-29 00:00:00'), 'ETD CGP': Timestamp('2021-09-01 00:00:00'), 'Voyage-N': '0010N', 'ETA CMB': Timestamp('2021-08-20 00:00:00'), 'ETB CMB': Timestamp('2021-08-23 00:00:00'), 'ETD CMB': Timestamp('2021-08-23 00:00:00'), 'ETA CGP-2': Timestamp('2021-08-29 00:00:00'), 'ETB CGP-2': Timestamp('2021-08-30 00:00:00'), 'ETD CGP-2': Timestamp('2021-09-01 00:00:00')}\n",
      "{'Wk/ ETB CGP': 36, 'Service': 'CCE', 'Vessel': 'HR SARERA \"MSAR\"', 'Voyage-S': '0104S', 'ETA CGP': Timestamp('2024-09-11 00:00:00'), 'ETB CGP': Timestamp('2024-09-12 00:00:00'), 'ETD CGP': Timestamp('2024-09-15 00:00:00'), 'Voyage-N': '0104N', 'ETA CMB': Timestamp('2024-09-05 00:00:00'), 'ETB CMB': Timestamp('2024-09-06 00:00:00'), 'ETD CMB': Timestamp('2024-09-06 00:00:00'), 'ETA CGP-2': Timestamp('2024-09-11 00:00:00'), 'ETB CGP-2': Timestamp('2024-09-12 00:00:00'), 'ETD CGP-2': Timestamp('2024-09-14 00:00:00')}\n",
      "{'Wk/ ETB CGP': 32, 'Service': 'CCE', 'Vessel': 'HR RHEA \"MREA\" ', 'Voyage-S': '0009S', 'ETA CGP': Timestamp('2021-08-19 00:00:00'), 'ETB CGP': Timestamp('2021-08-19 00:00:00'), 'ETD CGP': Timestamp('2021-08-22 00:00:00'), 'Voyage-N': '0009N', 'ETA CMB': Timestamp('2021-08-10 00:00:00'), 'ETB CMB': Timestamp('2021-08-13 00:00:00'), 'ETD CMB': Timestamp('2021-08-13 00:00:00'), 'ETA CGP-2': Timestamp('2021-08-18 00:00:00'), 'ETB CGP-2': Timestamp('2021-08-20 00:00:00'), 'ETD CGP-2': Timestamp('2021-08-22 00:00:00')}\n",
      "{'Wk/ ETB CGP': 36, 'Service': 'CCE', 'Vessel': 'HR FARHA \"MHRF\"', 'Voyage-S': '0076S', 'ETA CGP': Timestamp('2024-09-17 00:00:00'), 'ETB CGP': Timestamp('2024-09-17 00:00:00'), 'ETD CGP': Timestamp('2024-09-20 00:00:00'), 'Voyage-N': '0076N', 'ETA CMB': Timestamp('2024-09-08 00:00:00'), 'ETB CMB': Timestamp('2024-09-12 00:00:00'), 'ETD CMB': Timestamp('2024-09-13 00:00:00'), 'ETA CGP-2': Timestamp('2024-09-17 00:00:00'), 'ETB CGP-2': Timestamp('2024-09-18 00:00:00'), 'ETD CGP-2': Timestamp('2024-09-20 00:00:00')}\n",
      "{'Wk/ ETB CGP': 35, 'Service': 'CCE', 'Vessel': 'HR AARAI \"MRAI\"', 'Voyage-S': '0076S', 'ETA CGP': Timestamp('2024-09-03 00:00:00'), 'ETB CGP': Timestamp('2024-09-04 00:00:00'), 'ETD CGP': Timestamp('2024-09-07 00:00:00'), 'Voyage-N': '0076N', 'ETA CMB': Timestamp('2024-08-27 00:00:00'), 'ETB CMB': Timestamp('2024-08-28 00:00:00'), 'ETD CMB': Timestamp('2024-08-28 00:00:00'), 'ETA CGP-2': Timestamp('2024-09-03 00:00:00'), 'ETB CGP-2': Timestamp('2024-09-04 00:00:00'), 'ETD CGP-2': Timestamp('2024-09-06 00:00:00')}\n",
      "{'Wk/ ETB CGP': 19, 'Service': 'CCE', 'Vessel': 'HR BALU \"MBLU\"', 'Voyage-S': '0028S', 'ETA CGP': Timestamp('2024-05-11 00:00:00'), 'ETB CGP': Timestamp('2024-05-13 00:00:00'), 'ETD CGP': Timestamp('2024-05-15 00:00:00'), 'Voyage-N': '0028N', 'ETA CMB': Timestamp('2024-05-06 00:00:00'), 'ETB CMB': Timestamp('2024-05-07 00:00:00'), 'ETD CMB': Timestamp('2024-05-07 00:00:00'), 'ETA CGP-2': Timestamp('2024-05-12 00:00:00'), 'ETB CGP-2': Timestamp('2024-05-12 00:00:00'), 'ETD CGP-2': Timestamp('2024-05-14 00:00:00')}\n",
      "{'Wk/ ETB CGP': 36, 'Service': 'CCE', 'Vessel': 'HR TURAG \"MTRG\"', 'Voyage-S': '0038S', 'ETA CGP': Timestamp('2024-09-12 00:00:00'), 'ETB CGP': Timestamp('2024-09-15 00:00:00'), 'ETD CGP': Timestamp('2024-09-17 00:00:00'), 'Voyage-N': '0038N', 'ETA CMB': Timestamp('2024-09-06 00:00:00'), 'ETB CMB': Timestamp('2024-09-07 00:00:00'), 'ETD CMB': Timestamp('2024-09-07 00:00:00'), 'ETA CGP-2': Timestamp('2024-09-12 00:00:00'), 'ETB CGP-2': Timestamp('2024-09-13 00:00:00'), 'ETD CGP-2': Timestamp('2024-09-15 00:00:00')}\n"
     ]
    }
   ],
   "source": [
    "\"\"\"Generating new samples from previous data\"\"\"\n",
    "\n",
    "for vessel in vessel_name :\n",
    "    last_info = df[df['Vessel'] == vessel].iloc[-1]\n",
    "    new_record = {  'Wk/ ETB CGP' : int(last_info['Wk/ ETB CGP']) + 1,\n",
    "                    'Service': last_info['Service'],\n",
    "                    'Vessel' : last_info['Vessel'],\n",
    "                    'Voyage-S':\tget_voyage_s(last_info),\n",
    "                    'ETA CGP':\tlast_info['ETA CGP-2'],\n",
    "                    'ETB CGP':\tlast_info['ETB CGP-2'],\n",
    "                    'ETD CGP':\tlast_info['ETD CGP-2'],\n",
    "                    'Voyage-N':\tget_voyage_n(last_info),\n",
    "                    'ETA CMB' :\tget_eta_cmb(last_info),\n",
    "                    'ETB CMB' :\tget_etb_cmb(last_info),\n",
    "                    'ETD CMB' :\tget_etd_cmb(last_info),\n",
    "                    'ETA CGP-2' : get_eta_cgp(last_info),\n",
    "                    'ETB CGP-2' : get_etb_cgp(last_info),\t\n",
    "                    'ETD CGP-2': get_etd_cgp(last_info)}\n",
    "    print(new_record)\n",
    "                                \n"
   ]
  }
 ],
 "metadata": {
  "kernelspec": {
   "display_name": "Python 3",
   "language": "python",
   "name": "python3"
  },
  "language_info": {
   "codemirror_mode": {
    "name": "ipython",
    "version": 3
   },
   "file_extension": ".py",
   "mimetype": "text/x-python",
   "name": "python",
   "nbconvert_exporter": "python",
   "pygments_lexer": "ipython3",
   "version": "3.11.4"
  }
 },
 "nbformat": 4,
 "nbformat_minor": 2
}
